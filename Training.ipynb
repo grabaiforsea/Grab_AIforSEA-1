{
  "nbformat": 4,
  "nbformat_minor": 0,
  "metadata": {
    "colab": {
      "name": "Training.ipynb",
      "version": "0.3.2",
      "provenance": [],
      "collapsed_sections": [],
      "include_colab_link": true
    },
    "kernelspec": {
      "name": "python3",
      "display_name": "Python 3"
    },
    "accelerator": "GPU"
  },
  "cells": [
    {
      "cell_type": "markdown",
      "metadata": {
        "id": "view-in-github",
        "colab_type": "text"
      },
      "source": [
        "<a href=\"https://colab.research.google.com/github/capitaineoblivious/Grab_AIforSEA/blob/master/Training.ipynb\" target=\"_parent\"><img src=\"https://colab.research.google.com/assets/colab-badge.svg\" alt=\"Open In Colab\"/></a>"
      ]
    },
    {
      "cell_type": "markdown",
      "metadata": {
        "id": "AdRLpV0cAJ1O",
        "colab_type": "text"
      },
      "source": [
        "# GRAB AI for SEA\n",
        "## Traffic Management\n",
        "\n",
        "This notebook summarizes the model building process I came up with\n",
        "\n",
        "# Necessary packages\n",
        "Let us first make sure the necessary packages are installed. You can skip this cell if all the packages are already installed\n"
      ]
    },
    {
      "cell_type": "code",
      "metadata": {
        "id": "beSFaFtGAqjB",
        "colab_type": "code",
        "outputId": "20b2b445-7d99-49e0-99b7-9b2ebfb04c85",
        "colab": {
          "base_uri": "https://localhost:8080/",
          "height": 722
        }
      },
      "source": [
        "!pip install python-geohash\n",
        "!pip install pandas\n",
        "!pip install tensorflow\n",
        "!pip install numpy\n",
        "!pip install matplotlib"
      ],
      "execution_count": 2,
      "outputs": [
        {
          "output_type": "stream",
          "text": [
            "Collecting python-geohash\n",
            "  Downloading https://files.pythonhosted.org/packages/9c/e2/1a3507af7c8f91f8a4975d651d4aeb6a846dfdf74713954186ade4205850/python-geohash-0.8.5.tar.gz\n",
            "Building wheels for collected packages: python-geohash\n",
            "  Building wheel for python-geohash (setup.py) ... \u001b[?25l\u001b[?25hdone\n",
            "  Stored in directory: /root/.cache/pip/wheels/b5/64/5a/6a286481fc7c2a698d2f297d4c90af19946be430b23eba9a33\n",
            "Successfully built python-geohash\n",
            "Installing collected packages: python-geohash\n",
            "Successfully installed python-geohash-0.8.5\n",
            "Requirement already satisfied: pandas in /usr/local/lib/python3.6/dist-packages (0.24.2)\n",
            "Requirement already satisfied: pytz>=2011k in /usr/local/lib/python3.6/dist-packages (from pandas) (2018.9)\n",
            "Requirement already satisfied: python-dateutil>=2.5.0 in /usr/local/lib/python3.6/dist-packages (from pandas) (2.5.3)\n",
            "Requirement already satisfied: numpy>=1.12.0 in /usr/local/lib/python3.6/dist-packages (from pandas) (1.16.4)\n",
            "Requirement already satisfied: six>=1.5 in /usr/local/lib/python3.6/dist-packages (from python-dateutil>=2.5.0->pandas) (1.12.0)\n",
            "Requirement already satisfied: tensorflow in /usr/local/lib/python3.6/dist-packages (1.14.0rc1)\n",
            "Requirement already satisfied: numpy<2.0,>=1.14.5 in /usr/local/lib/python3.6/dist-packages (from tensorflow) (1.16.4)\n",
            "Requirement already satisfied: grpcio>=1.8.6 in /usr/local/lib/python3.6/dist-packages (from tensorflow) (1.15.0)\n",
            "Requirement already satisfied: gast>=0.2.0 in /usr/local/lib/python3.6/dist-packages (from tensorflow) (0.2.2)\n",
            "Requirement already satisfied: wheel>=0.26 in /usr/local/lib/python3.6/dist-packages (from tensorflow) (0.33.4)\n",
            "Requirement already satisfied: six>=1.10.0 in /usr/local/lib/python3.6/dist-packages (from tensorflow) (1.12.0)\n",
            "Requirement already satisfied: tensorflow-estimator<1.15.0rc0,>=1.14.0rc0 in /usr/local/lib/python3.6/dist-packages (from tensorflow) (1.14.0rc0)\n",
            "Requirement already satisfied: keras-preprocessing>=1.0.5 in /usr/local/lib/python3.6/dist-packages (from tensorflow) (1.1.0)\n",
            "Requirement already satisfied: protobuf>=3.6.1 in /usr/local/lib/python3.6/dist-packages (from tensorflow) (3.7.1)\n",
            "Requirement already satisfied: google-pasta>=0.1.6 in /usr/local/lib/python3.6/dist-packages (from tensorflow) (0.1.7)\n",
            "Requirement already satisfied: absl-py>=0.7.0 in /usr/local/lib/python3.6/dist-packages (from tensorflow) (0.7.1)\n",
            "Requirement already satisfied: termcolor>=1.1.0 in /usr/local/lib/python3.6/dist-packages (from tensorflow) (1.1.0)\n",
            "Requirement already satisfied: wrapt>=1.11.1 in /usr/local/lib/python3.6/dist-packages (from tensorflow) (1.11.1)\n",
            "Requirement already satisfied: keras-applications>=1.0.6 in /usr/local/lib/python3.6/dist-packages (from tensorflow) (1.0.8)\n",
            "Requirement already satisfied: astor>=0.6.0 in /usr/local/lib/python3.6/dist-packages (from tensorflow) (0.8.0)\n",
            "Requirement already satisfied: tensorboard<1.14.0,>=1.13.0 in /usr/local/lib/python3.6/dist-packages (from tensorflow) (1.13.1)\n",
            "Requirement already satisfied: setuptools in /usr/local/lib/python3.6/dist-packages (from protobuf>=3.6.1->tensorflow) (41.0.1)\n",
            "Requirement already satisfied: h5py in /usr/local/lib/python3.6/dist-packages (from keras-applications>=1.0.6->tensorflow) (2.8.0)\n",
            "Requirement already satisfied: markdown>=2.6.8 in /usr/local/lib/python3.6/dist-packages (from tensorboard<1.14.0,>=1.13.0->tensorflow) (3.1.1)\n",
            "Requirement already satisfied: werkzeug>=0.11.15 in /usr/local/lib/python3.6/dist-packages (from tensorboard<1.14.0,>=1.13.0->tensorflow) (0.15.4)\n",
            "Requirement already satisfied: numpy in /usr/local/lib/python3.6/dist-packages (1.16.4)\n",
            "Requirement already satisfied: matplotlib in /usr/local/lib/python3.6/dist-packages (3.0.3)\n",
            "Requirement already satisfied: cycler>=0.10 in /usr/local/lib/python3.6/dist-packages (from matplotlib) (0.10.0)\n",
            "Requirement already satisfied: pyparsing!=2.0.4,!=2.1.2,!=2.1.6,>=2.0.1 in /usr/local/lib/python3.6/dist-packages (from matplotlib) (2.4.0)\n",
            "Requirement already satisfied: kiwisolver>=1.0.1 in /usr/local/lib/python3.6/dist-packages (from matplotlib) (1.1.0)\n",
            "Requirement already satisfied: python-dateutil>=2.1 in /usr/local/lib/python3.6/dist-packages (from matplotlib) (2.5.3)\n",
            "Requirement already satisfied: numpy>=1.10.0 in /usr/local/lib/python3.6/dist-packages (from matplotlib) (1.16.4)\n",
            "Requirement already satisfied: six in /usr/local/lib/python3.6/dist-packages (from cycler>=0.10->matplotlib) (1.12.0)\n",
            "Requirement already satisfied: setuptools in /usr/local/lib/python3.6/dist-packages (from kiwisolver>=1.0.1->matplotlib) (41.0.1)\n"
          ],
          "name": "stdout"
        }
      ]
    },
    {
      "cell_type": "markdown",
      "metadata": {
        "id": "ywZ7AT0FBMoK",
        "colab_type": "text"
      },
      "source": [
        "We import all the necessary modules"
      ]
    },
    {
      "cell_type": "code",
      "metadata": {
        "id": "cMBRepE9BLNG",
        "colab_type": "code",
        "outputId": "91218bfb-5cde-4baf-c3e1-e43527eb09c1",
        "colab": {
          "base_uri": "https://localhost:8080/",
          "height": 34
        }
      },
      "source": [
        "import sys\n",
        "import os\n",
        "\n",
        "import pandas as pd\n",
        "import numpy as np\n",
        "import random\n",
        "\n",
        "import geohash\n",
        "\n",
        "import folium\n",
        "from folium import plugins\n",
        "import seaborn as sns\n",
        "import matplotlib.pyplot as plt\n",
        "\n",
        "%matplotlib inline\n",
        "\n",
        "import tensorflow as tf\n",
        "tf.enable_eager_execution()\n",
        "\n",
        "device_name = tf.test.gpu_device_name()\n",
        "if device_name != '/device:GPU:0':\n",
        "  raise SystemError('GPU device not found')\n",
        "print('Found GPU at: {}'.format(device_name))"
      ],
      "execution_count": 3,
      "outputs": [
        {
          "output_type": "stream",
          "text": [
            "Found GPU at: /device:GPU:0\n"
          ],
          "name": "stdout"
        }
      ]
    },
    {
      "cell_type": "markdown",
      "metadata": {
        "id": "30knjZE1CAM4",
        "colab_type": "text"
      },
      "source": [
        "### Data preparation\n",
        "\n",
        "We load the data on a pandas DataFrame and prepare it for training our model"
      ]
    },
    {
      "cell_type": "code",
      "metadata": {
        "id": "rbhqsEjBBl2R",
        "colab_type": "code",
        "outputId": "42cedfd8-f17a-4e34-eeb7-9b321063dc6e",
        "colab": {
          "base_uri": "https://localhost:8080/",
          "height": 195
        }
      },
      "source": [
        "dataset_link = 'https://s3-ap-southeast-1.amazonaws.com/grab-aiforsea-dataset/traffic-management.zip'\n",
        "df = pd.read_csv(dataset_link, compression='zip', header=0, sep=',', quotechar='\"')\n",
        "df.head()"
      ],
      "execution_count": 4,
      "outputs": [
        {
          "output_type": "execute_result",
          "data": {
            "text/html": [
              "<div>\n",
              "<style scoped>\n",
              "    .dataframe tbody tr th:only-of-type {\n",
              "        vertical-align: middle;\n",
              "    }\n",
              "\n",
              "    .dataframe tbody tr th {\n",
              "        vertical-align: top;\n",
              "    }\n",
              "\n",
              "    .dataframe thead th {\n",
              "        text-align: right;\n",
              "    }\n",
              "</style>\n",
              "<table border=\"1\" class=\"dataframe\">\n",
              "  <thead>\n",
              "    <tr style=\"text-align: right;\">\n",
              "      <th></th>\n",
              "      <th>geohash6</th>\n",
              "      <th>day</th>\n",
              "      <th>timestamp</th>\n",
              "      <th>demand</th>\n",
              "    </tr>\n",
              "  </thead>\n",
              "  <tbody>\n",
              "    <tr>\n",
              "      <th>0</th>\n",
              "      <td>qp03wc</td>\n",
              "      <td>18</td>\n",
              "      <td>20:0</td>\n",
              "      <td>0.020072</td>\n",
              "    </tr>\n",
              "    <tr>\n",
              "      <th>1</th>\n",
              "      <td>qp03pn</td>\n",
              "      <td>10</td>\n",
              "      <td>14:30</td>\n",
              "      <td>0.024721</td>\n",
              "    </tr>\n",
              "    <tr>\n",
              "      <th>2</th>\n",
              "      <td>qp09sw</td>\n",
              "      <td>9</td>\n",
              "      <td>6:15</td>\n",
              "      <td>0.102821</td>\n",
              "    </tr>\n",
              "    <tr>\n",
              "      <th>3</th>\n",
              "      <td>qp0991</td>\n",
              "      <td>32</td>\n",
              "      <td>5:0</td>\n",
              "      <td>0.088755</td>\n",
              "    </tr>\n",
              "    <tr>\n",
              "      <th>4</th>\n",
              "      <td>qp090q</td>\n",
              "      <td>15</td>\n",
              "      <td>4:0</td>\n",
              "      <td>0.074468</td>\n",
              "    </tr>\n",
              "  </tbody>\n",
              "</table>\n",
              "</div>"
            ],
            "text/plain": [
              "  geohash6  day timestamp    demand\n",
              "0   qp03wc   18      20:0  0.020072\n",
              "1   qp03pn   10     14:30  0.024721\n",
              "2   qp09sw    9      6:15  0.102821\n",
              "3   qp0991   32       5:0  0.088755\n",
              "4   qp090q   15       4:0  0.074468"
            ]
          },
          "metadata": {
            "tags": []
          },
          "execution_count": 4
        }
      ]
    },
    {
      "cell_type": "markdown",
      "metadata": {
        "id": "eH1FJmz9CedF",
        "colab_type": "text"
      },
      "source": [
        "We calculate the mean and standard deviation of latitude and longitude of each geohash on the dataframe.\n",
        "This will help at a later stage to normalize the data"
      ]
    },
    {
      "cell_type": "code",
      "metadata": {
        "id": "OJA3fJXtCn59",
        "colab_type": "code",
        "colab": {
          "base_uri": "https://localhost:8080/",
          "height": 34
        },
        "outputId": "8f8ef74b-17f2-44e4-e33e-0d614e5f9bcc"
      },
      "source": [
        "lat_long = pd.DataFrame(df['geohash6'].apply(geohash.decode).tolist(), columns=['latitude', 'longitude'])\n",
        "std_lat = lat_long.latitude.unique().std()\n",
        "mean_lat = lat_long.latitude.unique().mean()\n",
        "std_long = lat_long.longitude.unique().std()\n",
        "mean_long = lat_long.longitude.unique().mean()\n",
        "\n",
        "print(std_lat, mean_lat, std_long, mean_long)"
      ],
      "execution_count": 5,
      "outputs": [
        {
          "output_type": "stream",
          "text": [
            "0.07292679591440783 -5.361328125 0.11412921417661685 90.780029296875\n"
          ],
          "name": "stdout"
        }
      ]
    },
    {
      "cell_type": "markdown",
      "metadata": {
        "id": "mb2bW95vCxOD",
        "colab_type": "text"
      },
      "source": [
        "We now normalize the latitude and longitude"
      ]
    },
    {
      "cell_type": "markdown",
      "metadata": {
        "id": "dG-HBAq-DLMJ",
        "colab_type": "text"
      },
      "source": [
        "We also determine the set of all timestamps (the timestamps where no value is given are 0)"
      ]
    },
    {
      "cell_type": "code",
      "metadata": {
        "id": "vP2frikdDUjq",
        "colab_type": "code",
        "outputId": "ac36df7c-ab32-42bb-c369-a29dd71eb820",
        "colab": {
          "base_uri": "https://localhost:8080/",
          "height": 67
        }
      },
      "source": [
        "max_d = int(max(df.day))\n",
        "all_ts = []\n",
        "for d in range(1, max_d +1):\n",
        "    for h in range(0, 24):\n",
        "        for m in [0,15,30,45]:\n",
        "            ts = str(d).zfill(2) + '-' + str(h).zfill(2) + ':' + str(m).zfill(2)\n",
        "            all_ts.append(ts)\n",
        "\n",
        "print('The first timestamp of the data set is:', all_ts[0])\n",
        "print('The last timestamp of the data set is:', all_ts[-1])\n",
        "print('There are %d timestamps in the dataset' %(len(all_ts)))"
      ],
      "execution_count": 6,
      "outputs": [
        {
          "output_type": "stream",
          "text": [
            "The first timestamp of the data set is: 01-00:00\n",
            "The last timestamp of the data set is: 61-23:45\n",
            "There are 5856 timestamps in the dataset\n"
          ],
          "name": "stdout"
        }
      ]
    },
    {
      "cell_type": "markdown",
      "metadata": {
        "id": "WDwsheJ1E8CB",
        "colab_type": "text"
      },
      "source": [
        "We determine all the geohashes, and the geohashes that have more than 1000 non-zeros timestamps"
      ]
    },
    {
      "cell_type": "code",
      "metadata": {
        "id": "5iO_nZntEbEG",
        "colab_type": "code",
        "outputId": "115faca0-858d-4fff-e98f-a980ff2a089c",
        "colab": {
          "base_uri": "https://localhost:8080/",
          "height": 34
        }
      },
      "source": [
        "all_geo = df['geohash6'].unique().tolist()\n",
        "\n",
        "counts = pd.DataFrame(df['geohash6'].value_counts())\n",
        "counts.columns = ['count']\n",
        "frequent_geo = counts[counts['count'] >= 1000].index.tolist()\n",
        "rare_geo = counts[counts['count'] < 1000].index.tolist()\n",
        "print('%d geohashes were filtered out' %(len(all_geo)-len(frequent_geo)))"
      ],
      "execution_count": 7,
      "outputs": [
        {
          "output_type": "stream",
          "text": [
            "306 geohashes were filtered out\n"
          ],
          "name": "stdout"
        }
      ]
    },
    {
      "cell_type": "markdown",
      "metadata": {
        "id": "vQkxfhMZDxA7",
        "colab_type": "text"
      },
      "source": [
        "We reformat the timestamps to a more homogeneous form and we transform into a pivot table where the columns are the geohashes and the index are the timestamps"
      ]
    },
    {
      "cell_type": "code",
      "metadata": {
        "id": "hn21uIq-Dqmu",
        "colab_type": "code",
        "colab": {}
      },
      "source": [
        "def formatted(string):\n",
        "    hour, minute = string.split(':')\n",
        "    return hour.zfill(2) + \":\" + minute.zfill(2)\n",
        "\n",
        "def hour(string):\n",
        "    hour, minute = string.split(':')\n",
        "    return int(hour)\n",
        "\n",
        "df['hour'] = df['timestamp'].apply(hour)    \n",
        "df['timestamp'] = df.day.apply(lambda x: str(x).zfill(2)) + '-' + df['timestamp'].apply(formatted)\n",
        "\n",
        "data = df.pivot(index='timestamp', columns='geohash6', values='demand')\n",
        "data = data.reindex(all_ts).fillna(0)\n",
        "training_data, testing_data = data.iloc[:int(0.7*len(all_ts))], data.iloc[int(0.7*len(all_ts)):]"
      ],
      "execution_count": 0,
      "outputs": []
    },
    {
      "cell_type": "code",
      "metadata": {
        "colab_type": "code",
        "outputId": "ce2bfcfe-be01-4d6a-da34-ac838d7753a5",
        "id": "NEfOEGGUg9X5",
        "colab": {
          "base_uri": "https://localhost:8080/",
          "height": 34
        }
      },
      "source": [
        "data.shape"
      ],
      "execution_count": 9,
      "outputs": [
        {
          "output_type": "execute_result",
          "data": {
            "text/plain": [
              "(5856, 1329)"
            ]
          },
          "metadata": {
            "tags": []
          },
          "execution_count": 9
        }
      ]
    },
    {
      "cell_type": "markdown",
      "metadata": {
        "id": "yQVmLnUvSk4w",
        "colab_type": "text"
      },
      "source": [
        "We remove from the dataset the geohashes for which the values ressembles a white noise.\n",
        "For a timeseries of length T, we consider it to be a white noise if 95% of the spikes of the autocorrelation plot falls below the treshold $2 / \\sqrt{T}$.\n",
        "[https://otexts.com/fpp2/wn.html]\n"
      ]
    },
    {
      "cell_type": "code",
      "metadata": {
        "id": "a5QUJykeA1hS",
        "colab_type": "code",
        "outputId": "e3851a33-1a9a-4bfb-a90a-9c93502a1af2",
        "colab": {
          "base_uri": "https://localhost:8080/",
          "height": 118
        }
      },
      "source": [
        "def autocorr1(x):\n",
        "    '''numpy.corrcoef, partial'''\n",
        "    corr=[np.corrcoef(x[l:],x[:-l])[0][1] for l in range(1, len(x)-2)]\n",
        "    return np.array(corr)\n",
        "\n",
        "def check_randomness(data, geohashes):\n",
        "    random = []\n",
        "    \n",
        "    T = len(data.index)\n",
        "    treshold = 2 / np.sqrt(T)\n",
        "    for g in geohashes:\n",
        "        x = autocorr1(data[g])\n",
        "        ratio = len(x[x<treshold]) / len(x)\n",
        "        if ratio > 0.95:\n",
        "            random.append(g)\n",
        "    return random\n",
        "        \n",
        "randoms = check_randomness(data, rare_geo)\n",
        "good_geo = list(set(all_geo) - set(randoms))"
      ],
      "execution_count": 10,
      "outputs": [
        {
          "output_type": "stream",
          "text": [
            "/usr/local/lib/python3.6/dist-packages/numpy/lib/function_base.py:2530: RuntimeWarning: invalid value encountered in true_divide\n",
            "  c /= stddev[:, None]\n",
            "/usr/local/lib/python3.6/dist-packages/numpy/lib/function_base.py:2531: RuntimeWarning: invalid value encountered in true_divide\n",
            "  c /= stddev[None, :]\n",
            "/usr/local/lib/python3.6/dist-packages/ipykernel_launcher.py:13: RuntimeWarning: invalid value encountered in less\n",
            "  del sys.path[0]\n"
          ],
          "name": "stderr"
        }
      ]
    },
    {
      "cell_type": "markdown",
      "metadata": {
        "id": "Pi4zZqEii-bj",
        "colab_type": "text"
      },
      "source": [
        "\n",
        "\n",
        "We now define a helper function that will generate samples to be trained on.\n",
        "\n",
        "The function takes in 5 parameters:\n",
        "1. data is the pandas dataframe that we just polished above\n",
        "2. geohashes is the list of geohashes that we consider for forecasting\n",
        "3. Tx is the length of the subsequence\n",
        "4. m is the number of samples per geohash\n",
        "5. size is the number of geohashes to be sampled from the list of geohashes\n",
        "\n",
        "It returns two numpy tensors:\n",
        "1. A is the training data of dimensions (m * size, Tx, 29)\n",
        "2. B is the target data of dimensions (m * size, Tx, 1)\n",
        "\n",
        "The 29 features are:\n",
        "- demand\n",
        "- one_hot vector of length 24 representing the 24 hours of a day. The value of 1 is set according to the timestamp\n",
        "- the four values of latitude, longitude and their squared value\n",
        "\n",
        "\n",
        "\n"
      ]
    },
    {
      "cell_type": "code",
      "metadata": {
        "id": "VhbiIfGji9ue",
        "colab_type": "code",
        "outputId": "db8f00d7-221b-411d-8ab9-4dc9c7c75786",
        "colab": {
          "base_uri": "https://localhost:8080/",
          "height": 34
        }
      },
      "source": [
        "def sample_subsequences(data, geohashes, Tx, m, size):\n",
        "    geohashes = np.random.choice(geohashes, size=size)\n",
        "    \n",
        "    Tmax = len(data)\n",
        "    dim = m * len(geohashes) \n",
        "    X = np.zeros((dim, Tx, 29)) # 29 features : demand, one hot vector of hours (24), long, lat, long2, lat2 \n",
        "    Y = np.zeros((dim, Tx, 1)) # 1 feature : demand at T + 1\n",
        "\n",
        "    count = 0\n",
        "    for ghash in geohashes:\n",
        "        for i in range(m):\n",
        "            start = np.random.randint(1, Tmax - Tx - 1)\n",
        "            end = start+Tx\n",
        "\n",
        "            sample = data[ghash]\n",
        "            ts = sample.iloc[start:end].index\n",
        "            target = sample.iloc[start+1:end+1].values\n",
        "            sample = sample.iloc[start:end].values\n",
        "            \n",
        "            lat, long = geohash.decode(ghash)\n",
        "            lat = (lat - mean_lat) / std_lat\n",
        "            long = (long - mean_long) / std_long\n",
        "           \n",
        "            matrix = np.zeros((Tx, 29))\n",
        "            for j, s in enumerate(ts):\n",
        "                hour = int(s.split('-')[1].split(':')[0])\n",
        "                matrix[j, 0] = sample[j]\n",
        "                matrix[j, hour+1] = 1\n",
        "                matrix[j, 25:] = np.array([lat, long, lat**2, long**2])\n",
        "            X[count] = matrix\n",
        "            Y[count] = np.array(target).reshape((Tx, 1))\n",
        "            count +=1\n",
        "    return X,Y\n",
        "\n",
        "A, B = sample_subsequences(training_data, good_geo, Tx=256, m=16, size=20)\n",
        "A.shape"
      ],
      "execution_count": 11,
      "outputs": [
        {
          "output_type": "execute_result",
          "data": {
            "text/plain": [
              "(320, 256, 29)"
            ]
          },
          "metadata": {
            "tags": []
          },
          "execution_count": 11
        }
      ]
    },
    {
      "cell_type": "markdown",
      "metadata": {
        "id": "aYk-IcdQq2r0",
        "colab_type": "text"
      },
      "source": [
        "## Model preparation\n",
        "\n",
        "Let us now define our model. This model is based on recurrent LSTM cells\n",
        "- One cell with 256 units\n",
        "- One LSTM cell of 128 units\n",
        "- One LSTM cell of 64 units\n",
        "- One LSTM cell of 64 units\n",
        "- One Dense layer with sigmoid activation for output. The sigmoid ensures that the predicted output is between the expected range of [0, 1]\n",
        "\n",
        "As we will use our model to make predictions we need it to be stateful, and thus the batch_size is fixed when the model is built."
      ]
    },
    {
      "cell_type": "code",
      "metadata": {
        "id": "L0R3jPQ4h29z",
        "colab_type": "code",
        "outputId": "7d0f4605-65c1-4850-f894-a36d3c5c5030",
        "colab": {
          "base_uri": "https://localhost:8080/",
          "height": 34
        }
      },
      "source": [
        "if tf.test.is_gpu_available():\n",
        "  print(' GPU acceleration available')\n",
        "  rnn = tf.keras.layers.CuDNNLSTM\n",
        "else:\n",
        "  print(' NO GPU detected')\n",
        "  rnn = tf.keras.layers.LSTM\n",
        "\n",
        "# define model where LSTM is also output layer\n",
        "\n",
        "def build_model(batch_size=16):\n",
        "    model = tf.keras.Sequential()\n",
        "    model.add(tf.keras.layers.BatchNormalization(input_shape=(None, 29),batch_size=batch_size))\n",
        "    model.add(rnn(256, return_sequences=True, stateful=True))\n",
        "    model.add(rnn(128, return_sequences=True, stateful=True))\n",
        "    model.add(rnn(64, return_sequences=True, stateful=True))\n",
        "    model.add(rnn(64, return_sequences=True, stateful=True))\n",
        "    model.add(tf.keras.layers.Dense(1, activation='sigmoid'))\n",
        "\n",
        "    return model\n",
        "\n",
        "model = build_model()\n",
        "opt = tf.keras.optimizers.Adam(lr=0.015, beta_1=0.9, beta_2=0.999, decay=0.005)\n",
        "model.compile(optimizer=opt, loss='mean_squared_error')"
      ],
      "execution_count": 12,
      "outputs": [
        {
          "output_type": "stream",
          "text": [
            " GPU acceleration available\n"
          ],
          "name": "stdout"
        }
      ]
    },
    {
      "cell_type": "code",
      "metadata": {
        "id": "IUOeInZltAz5",
        "colab_type": "code",
        "outputId": "7276b6aa-c939-467b-e698-5d56778da0a0",
        "colab": {
          "base_uri": "https://localhost:8080/",
          "height": 722
        }
      },
      "source": [
        "# Directory where the checkpoints will be saved\n",
        "checkpoint_dir = ''\n",
        "# Name of the checkpoint files\n",
        "checkpoint_prefix = os.path.join(checkpoint_dir, \"ckpt_{epoch}\")\n",
        "\n",
        "checkpoint_callback=tf.keras.callbacks.ModelCheckpoint(\n",
        "    filepath=checkpoint_prefix,\n",
        "    save_weights_only=True)\n",
        "\n",
        "\n",
        "N_LOOP = 1\n",
        "\n",
        "for i in range(N_LOOP):\n",
        "    print(i)\n",
        "    A, B =  sample_subsequences(training_data, good_geo, Tx=384, m=16, size=30)\n",
        "    model.reset_states()\n",
        "    bo = 1 if i < N_LOOP - 1 else 1\n",
        "    history = model.fit(A, B, epochs=20, verbose=bo, batch_size=16, callbacks=[checkpoint_callback])\n",
        "print('done')\n",
        "\n",
        "model.save('/content/gdrive/My Drive/Colab Notebooks/my_model.h5')"
      ],
      "execution_count": 16,
      "outputs": [
        {
          "output_type": "stream",
          "text": [
            "0\n",
            "Epoch 1/20\n",
            "480/480 [==============================] - 3s 6ms/sample - loss: 7.7841e-04\n",
            "Epoch 2/20\n",
            "480/480 [==============================] - 2s 4ms/sample - loss: 8.1456e-04\n",
            "Epoch 3/20\n",
            "480/480 [==============================] - 2s 4ms/sample - loss: 7.3875e-04\n",
            "Epoch 4/20\n",
            "480/480 [==============================] - 2s 4ms/sample - loss: 6.7546e-04\n",
            "Epoch 5/20\n",
            "480/480 [==============================] - 2s 4ms/sample - loss: 7.0187e-04\n",
            "Epoch 6/20\n",
            "480/480 [==============================] - 2s 4ms/sample - loss: 7.1076e-04\n",
            "Epoch 7/20\n",
            "480/480 [==============================] - 2s 4ms/sample - loss: 7.1980e-04\n",
            "Epoch 8/20\n",
            "480/480 [==============================] - 2s 4ms/sample - loss: 7.0944e-04\n",
            "Epoch 9/20\n",
            "480/480 [==============================] - 2s 4ms/sample - loss: 7.1526e-04\n",
            "Epoch 10/20\n",
            "480/480 [==============================] - 2s 4ms/sample - loss: 6.9561e-04\n",
            "Epoch 11/20\n",
            "480/480 [==============================] - 2s 4ms/sample - loss: 6.9474e-04\n",
            "Epoch 12/20\n",
            "480/480 [==============================] - 2s 4ms/sample - loss: 6.6462e-04\n",
            "Epoch 13/20\n",
            "480/480 [==============================] - 2s 4ms/sample - loss: 7.1379e-04\n",
            "Epoch 14/20\n",
            "480/480 [==============================] - 2s 4ms/sample - loss: 6.3462e-04\n",
            "Epoch 15/20\n",
            "480/480 [==============================] - 2s 4ms/sample - loss: 6.4006e-04\n",
            "Epoch 16/20\n",
            "480/480 [==============================] - 2s 4ms/sample - loss: 6.6989e-04\n",
            "Epoch 17/20\n",
            "480/480 [==============================] - 2s 4ms/sample - loss: 6.3366e-04\n",
            "Epoch 18/20\n",
            "480/480 [==============================] - 2s 4ms/sample - loss: 6.5494e-04\n",
            "Epoch 19/20\n",
            "480/480 [==============================] - 2s 4ms/sample - loss: 6.7226e-04\n",
            "Epoch 20/20\n",
            "480/480 [==============================] - 2s 4ms/sample - loss: 6.9403e-04\n",
            "done\n"
          ],
          "name": "stdout"
        }
      ]
    },
    {
      "cell_type": "code",
      "metadata": {
        "id": "MAlHYlPG0nt2",
        "colab_type": "code",
        "colab": {}
      },
      "source": [
        "AA, BB =  sample_subsequences(testing_data, good_geo, Tx=384, m=16, size=20)"
      ],
      "execution_count": 0,
      "outputs": []
    },
    {
      "cell_type": "code",
      "metadata": {
        "id": "uY4LCJh2CnHM",
        "colab_type": "code",
        "colab": {}
      },
      "source": [
        "toto = model.predict(AA)"
      ],
      "execution_count": 0,
      "outputs": []
    },
    {
      "cell_type": "code",
      "metadata": {
        "id": "i6fhgVER0o2_",
        "colab_type": "code",
        "outputId": "71d3d9a2-afe4-4b63-83cb-74c6b4894e17",
        "colab": {
          "base_uri": "https://localhost:8080/",
          "height": 286
        }
      },
      "source": [
        "i=23\n",
        "plt.plot(AA[i,:,0])\n",
        "plt.plot(toto[i,:,0], color='red')"
      ],
      "execution_count": 19,
      "outputs": [
        {
          "output_type": "execute_result",
          "data": {
            "text/plain": [
              "[<matplotlib.lines.Line2D at 0x7f79aeadbc18>]"
            ]
          },
          "metadata": {
            "tags": []
          },
          "execution_count": 19
        },
        {
          "output_type": "display_data",
          "data": {
            "image/png": "[encoded data removed]",
            "text/plain": [
              "<Figure size 432x288 with 1 Axes>"
            ]
          },
          "metadata": {
            "tags": []
          }
        }
      ]
    },
    {
      "cell_type": "markdown",
      "metadata": {
        "id": "I2zTccEbmTyu",
        "colab_type": "text"
      },
      "source": [
        "We reload the model with batch_size=1 for prediction"
      ]
    },
    {
      "cell_type": "code",
      "metadata": {
        "id": "N7wIHs3X-QGb",
        "colab_type": "code",
        "colab": {}
      },
      "source": [
        "model2 = build_model(batch_size=1)\n",
        "\n",
        "model2.load_weights(tf.train.latest_checkpoint(checkpoint_dir))\n",
        "\n",
        "model2.build(tf.TensorShape([1, None, 29]))"
      ],
      "execution_count": 0,
      "outputs": []
    },
    {
      "cell_type": "markdown",
      "metadata": {
        "id": "UKlqJ6LvmjRK",
        "colab_type": "text"
      },
      "source": [
        "We define the function to make predictions"
      ]
    },
    {
      "cell_type": "code",
      "metadata": {
        "id": "MB1kVyUFmicz",
        "colab_type": "code",
        "colab": {}
      },
      "source": [
        "def make_predictions(sequence, model2, Tn, Tx):\n",
        "    seq = sequence.copy()\n",
        "    \n",
        "    pred = []\n",
        "    out = None\n",
        "    \n",
        "    model2.reset_states()\n",
        "\n",
        "    for i in range(Tn+Tx):\n",
        "        val = seq[:,i,:].reshape((1,1,29))\n",
        "        if i >= Tn:\n",
        "            val[0,0,0] = out\n",
        "        pred.append(val[0,0,0])\n",
        "        out = model2.predict(val)\n",
        "        out = tf.squeeze(out).numpy()\n",
        "    \n",
        "    next_5 = sequence[0,Tn:Tn+Tx,0]\n",
        "    to_compare = np.array(pred[-Tx:])\n",
        "    error = np.sqrt(np.sum((next_5 - to_compare)**2))\n",
        "    max_relative_error = max(abs((to_compare - next_5) / to_compare))\n",
        "    return pred, error, max_relative_error"
      ],
      "execution_count": 0,
      "outputs": []
    },
    {
      "cell_type": "code",
      "metadata": {
        "id": "d-yoRXBvnIrH",
        "colab_type": "code",
        "colab": {}
      },
      "source": [
        "validation_sequence, target = sample_subsequences(testing_data, good_geo, Tx=384, m=1, size=1)\n",
        "\n",
        "predictions, error, relative_error = make_predictions(validation_sequence, model2, 20, 5)\n",
        "plt.plot(predictions, color='green')\n",
        "plt.plot(validation_sequence[0,0:20+5,0], color='red')\n",
        "print('RMSE error: %.10f, Max Relative Error: %.10f ' %(error, relative_error*100))"
      ],
      "execution_count": 0,
      "outputs": []
    },
    {
      "cell_type": "markdown",
      "metadata": {
        "id": "ca2Tx6vCAK-T",
        "colab_type": "text"
      },
      "source": [
        "We compute the average loss over 500 samples"
      ]
    },
    {
      "cell_type": "code",
      "metadata": {
        "id": "ioapv9FYAVyn",
        "colab_type": "code",
        "colab": {}
      },
      "source": [
        "rmse = []\n",
        "for i in range(500):\n",
        "    validation_sequence, target = sample_subsequences(testing_data, good_geo, Tx=384, m=1, size=1)\n",
        "\n",
        "    _, error, _ = make_predictions(validation_sequence, model2, 256, 5)\n",
        "    rmse.append(error)\n",
        "    \n",
        "\n",
        "print('RMSE over 2000 sequences: %.3f' %(np.array(rmse).mean()))"
      ],
      "execution_count": 0,
      "outputs": []
    },
    {
      "cell_type": "markdown",
      "metadata": {
        "id": "QTWO9dHR0li2",
        "colab_type": "text"
      },
      "source": [
        "Let's save the model"
      ]
    },
    {
      "cell_type": "code",
      "metadata": {
        "id": "qz1BYSn5rb98",
        "colab_type": "code",
        "colab": {}
      },
      "source": [
        "model.save('/content/gdrive/My Drive/Colab Notebooks/my_model.h5')"
      ],
      "execution_count": 0,
      "outputs": []
    }
  ]
}